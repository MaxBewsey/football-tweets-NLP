{
 "cells": [
  {
   "cell_type": "markdown",
   "id": "01baafd1-7a28-4ece-ad35-a383f5ad5a1b",
   "metadata": {},
   "source": [
    "# Football Tweet Classification Using Supervised Learning and NLP"
   ]
  },
  {
   "cell_type": "markdown",
   "id": "607d947f-eed6-4228-a498-b9bbf73e53aa",
   "metadata": {},
   "source": [
    " "
   ]
  },
  {
   "cell_type": "markdown",
   "id": "aa79fae2-90aa-4311-b49d-2766d934fd05",
   "metadata": {},
   "source": [
    " "
   ]
  },
  {
   "cell_type": "markdown",
   "id": "7a079ecc-99ff-453f-81da-075beafe153d",
   "metadata": {},
   "source": [
    " "
   ]
  },
  {
   "cell_type": "markdown",
   "id": "beb763a9-f562-4650-bddf-d823cda90aeb",
   "metadata": {},
   "source": [
    "## Introduction"
   ]
  },
  {
   "cell_type": "markdown",
   "id": "27a1d8ae-49f6-4f09-9927-27c8a1b58628",
   "metadata": {},
   "source": [
    "Social media platforms like X (formerly Twitter) offer a wealth of data that reflects real-time public opinion, trends, and events. In this project, we focus on a dataset of X-posts (which we will refer to as tweets) originating from London and aim to classify whether or not a post relates to, firstly, a game involving Arsenal FC, and later, football in general.\n",
    "\n",
    "Rather than relying on fully labeled data - which is often expensive and time-consuming to produce - we applied a weak supervision approach, using keyword matching to generate approximate labels. We then trained and evaluated multiple classification models on this noisy dataset, holding out a small manually labeled subset (referred to as the gold set) for validation.\n",
    "\n",
    "This project demonstrates a full natural language processing (NLP) pipeline, from data cleaning and preprocessing to vectorisation, model training, and performance evaluation using metrics such as precision, recall, and F1 score. It also highlights common challenges in real-world text classification, including class imbalance and the ambiguity in human language."
   ]
  },
  {
   "cell_type": "markdown",
   "id": "e16bb888-1e2c-44f1-9454-4414b422ad25",
   "metadata": {},
   "source": [
    " "
   ]
  },
  {
   "cell_type": "markdown",
   "id": "9390f679-3fe8-41dd-bf40-aec9455bc04d",
   "metadata": {},
   "source": [
    " "
   ]
  },
  {
   "cell_type": "markdown",
   "id": "cef4374d-c3d7-4868-a4f7-bc6a34b916ff",
   "metadata": {},
   "source": [
    " "
   ]
  },
  {
   "cell_type": "markdown",
   "id": "827efa39-f4ec-4d9a-9908-8b960ee262c4",
   "metadata": {},
   "source": [
    "## Importing Data"
   ]
  },
  {
   "cell_type": "code",
   "execution_count": 1,
   "id": "38d390e5-5f97-421c-98c5-1401271d41cd",
   "metadata": {},
   "outputs": [],
   "source": [
    "# Import the modules we are going to use\n",
    "\n",
    "# General use\n",
    "import pandas as pd\n",
    "import numpy as np\n",
    "from functools import reduce\n",
    "import re\n",
    "\n",
    "# ML general use\n",
    "from sklearn.feature_extraction.text import TfidfVectorizer\n",
    "from sklearn.feature_extraction.text import CountVectorizer\n",
    "from sklearn.model_selection import train_test_split\n",
    "\n",
    "# sklearn ML models\n",
    "from sklearn.naive_bayes import MultinomialNB\n",
    "from sklearn.linear_model import LogisticRegression\n",
    "from sklearn.svm import LinearSVC\n",
    "\n",
    "# ML performance metrics\n",
    "from sklearn.metrics import classification_report, confusion_matrix\n",
    "from sklearn.metrics import precision_score, recall_score, f1_score\n",
    "\n",
    "# Visualisation\n",
    "from matplotlib import pyplot as plt"
   ]
  },
  {
   "cell_type": "code",
   "execution_count": 2,
   "id": "6951fe8f-03cb-405a-8df0-2976c87ec67d",
   "metadata": {},
   "outputs": [],
   "source": [
    "# Import our json file and assign to a dataframe\n",
    "london_tweets = pd.read_json(\"london.json\", lines = True)"
   ]
  },
  {
   "cell_type": "code",
   "execution_count": 3,
   "id": "a30b7b1b-349d-4308-bcc8-db7c8cff23cb",
   "metadata": {},
   "outputs": [
    {
     "name": "stdout",
     "output_type": "stream",
     "text": [
      "5341\n",
      "Index(['created_at', 'id', 'id_str', 'text', 'display_text_range', 'source',\n",
      "       'truncated', 'in_reply_to_status_id', 'in_reply_to_status_id_str',\n",
      "       'in_reply_to_user_id', 'in_reply_to_user_id_str',\n",
      "       'in_reply_to_screen_name', 'user', 'geo', 'coordinates', 'place',\n",
      "       'contributors', 'is_quote_status', 'extended_tweet', 'quote_count',\n",
      "       'reply_count', 'retweet_count', 'favorite_count', 'entities',\n",
      "       'favorited', 'retweeted', 'filter_level', 'lang', 'timestamp_ms',\n",
      "       'possibly_sensitive', 'quoted_status_id', 'quoted_status_id_str',\n",
      "       'quoted_status', 'quoted_status_permalink', 'extended_entities'],\n",
      "      dtype='object')\n"
     ]
    }
   ],
   "source": [
    "# Inspect our dataframe to familiarise ourselves with the data\n",
    "print(len(london_tweets))\n",
    "print(london_tweets.columns)"
   ]
  },
  {
   "cell_type": "markdown",
   "id": "e7b64d7b-a24f-48f6-ac24-c3332ede4280",
   "metadata": {},
   "source": [
    " "
   ]
  },
  {
   "cell_type": "markdown",
   "id": "ce0c1489-9c25-4723-8d61-e135f48821a1",
   "metadata": {},
   "source": [
    "Upon initial inspection, we have 5341 tweets in the `london_tweets` dataset. \n",
    "\n",
    "We will begin by inspecting the first tweet in the dataset."
   ]
  },
  {
   "cell_type": "code",
   "execution_count": 4,
   "id": "ceda0a03-b37e-4c5c-8e4a-399ee3ca0387",
   "metadata": {},
   "outputs": [
    {
     "name": "stdout",
     "output_type": "stream",
     "text": [
      "1) @bbclaurak i agree Laura but the Party you seem to support so strongly is slowly doing the same thing . . . and usi… https://t.co/tsRsVBozIR\n",
      "2) What a pen by Adan\n",
      "3) @petshopboys @RoyalOperaHouse Amazing night Boys!!!! 🕶🎹🎤🎼🔝🔝🔝🔝 @tomlupi75\n"
     ]
    }
   ],
   "source": [
    "# Preview the text in a few of our tweets\n",
    "print(\"1) \" + london_tweets.loc[0][\"text\"])\n",
    "print(\"2) \" + london_tweets.loc[70][\"text\"])\n",
    "print(\"3) \" + london_tweets.loc[400][\"text\"])"
   ]
  },
  {
   "cell_type": "markdown",
   "id": "eaabf393-21a6-4803-b29c-d3ed69ede0dd",
   "metadata": {},
   "source": [
    " "
   ]
  },
  {
   "cell_type": "markdown",
   "id": "9430bfce-29ee-48e6-acf1-231821879839",
   "metadata": {},
   "source": [
    " "
   ]
  },
  {
   "cell_type": "markdown",
   "id": "4f919d38-1934-43a6-80d1-bdd8c38e1fb6",
   "metadata": {},
   "source": [
    "## Preparing Data"
   ]
  },
  {
   "cell_type": "markdown",
   "id": "f48012dd-076b-42c9-89ae-e8ec59007b6d",
   "metadata": {},
   "source": [
    "Our first preparation step will be to clean the tweets. We will use the *regular expressions (re)* module to remove any parts of a tweet that will not be used in the classification e.g. URLs, @mentions, punctuation etc.\n",
    "\n",
    "But first, we are going to remove a portion of the data (200 tweets) and set it aside for manual labelling, which we will use at the end of our project to measure ours model's performance. We will call this our `gold_test`."
   ]
  },
  {
   "cell_type": "code",
   "execution_count": 5,
   "id": "6ff251f1-d25c-413d-b1dd-3c6c75b986d9",
   "metadata": {},
   "outputs": [],
   "source": [
    "# Remove 200 tweets to use for later testing\n",
    "gold_test = london_tweets.sample(n=200, random_state=42).copy()\n",
    "london_tweets = london_tweets.drop(gold_test.index)"
   ]
  },
  {
   "cell_type": "code",
   "execution_count": 6,
   "id": "b72d059c-2b54-45c0-9791-af77273a4219",
   "metadata": {},
   "outputs": [],
   "source": [
    "# Create a function that cleans our tweets\n",
    "def clean_tweet(text):\n",
    "    text = text.lower()  # lowercase everything\n",
    "    text = re.sub(r\"http\\S+\", \"\", text)  # remove URLs\n",
    "    text = re.sub(r\"@\\w+\", \"\", text)  # remove @mentions\n",
    "    text = re.sub(r\"#\", \"\", text)  # remove # symbol, keep hashtag word\n",
    "    text = re.sub(r\"[^\\w\\s]\", \"\", text)  # remove punctuation\n",
    "    text = re.sub(r\"\\s+\", \" \", text).strip()  # strip whitespace\n",
    "    return text\n",
    "\n",
    "# Apply our tweet-cleaning function\n",
    "london_tweets[\"cleaned_text\"] = london_tweets[\"text\"].apply(clean_tweet)"
   ]
  },
  {
   "cell_type": "markdown",
   "id": "73c66e0e-2893-4d36-88eb-f3da90a03ce6",
   "metadata": {},
   "source": [
    "We will check that our function has worked as desired."
   ]
  },
  {
   "cell_type": "code",
   "execution_count": 7,
   "id": "2e6c2af5-fa43-4961-9361-468e1281acde",
   "metadata": {},
   "outputs": [
    {
     "name": "stdout",
     "output_type": "stream",
     "text": [
      "1) i agree laura but the party you seem to support so strongly is slowly doing the same thing and usi\n",
      "2) what a pen by adan\n",
      "3) amazing night boys\n"
     ]
    }
   ],
   "source": [
    "# Reinspect our newly cleaned tweets\n",
    "print(\"1) \" + london_tweets.loc[0][\"cleaned_text\"])\n",
    "print(\"2) \" + london_tweets.loc[70][\"cleaned_text\"])\n",
    "print(\"3) \" + london_tweets.loc[400][\"cleaned_text\"])"
   ]
  },
  {
   "cell_type": "markdown",
   "id": "ce73b888-b15e-425b-a567-61a6207910ec",
   "metadata": {},
   "source": [
    " "
   ]
  },
  {
   "cell_type": "markdown",
   "id": "c7914632-620a-4184-8a83-588e336c3d55",
   "metadata": {},
   "source": [
    "We can confirm that the tweets have been successfully cleaned. Our next step is to check for null values and empty string tweets (tweets that were previously just emojis, @mentions etc. prior to cleaning)."
   ]
  },
  {
   "cell_type": "code",
   "execution_count": 8,
   "id": "dd3bd130-ef27-4eea-97f6-36e9ae42435a",
   "metadata": {},
   "outputs": [
    {
     "name": "stdout",
     "output_type": "stream",
     "text": [
      "0\n",
      "4837\n"
     ]
    }
   ],
   "source": [
    "# Check for null values\n",
    "print(london_tweets[\"cleaned_text\"].isnull().sum())\n",
    "\n",
    "# Remove empty string tweets\n",
    "london_tweets = london_tweets[london_tweets[\"cleaned_text\"].str.strip() != \"\"]\n",
    "\n",
    "# Check how many empty string tweets have consequently been removed\n",
    "print(len(london_tweets))"
   ]
  },
  {
   "cell_type": "markdown",
   "id": "7b73ec33-e4c0-4b8f-9b52-059d24cba600",
   "metadata": {},
   "source": [
    "We can see that we have 0 null entries after cleaning, which is good, however we did lose 315 empty strings tweets.\n",
    "\n",
    "For our next step, our tweets are currently unlabelled so we need to assign them 'weak' labels. We will do this by assigning the positive class (1) to any tweet that contains certain keywords surrounding the Arsenal game, and assigning the negative class (0) to those that do not.\n",
    "\n",
    "Our keywords will be stored in the list `keywords`. We must be careful when using generic football terms as it is likely that there is more than just the Arsenal game on. Examples of keywords we will use are: 'arsenal', 'gunners', 'afc', as well the squad lists from the game.\n",
    "\n",
    "We are opting for a weak labelling method as it is significantly less laborious than manually labelling just under 5000 tweets. As mentioned earlier, we  removed 200 tweets for this purpose, which will serve as our gold standard to measure model performance from.\n",
    "\n",
    "To begin, we will check the dates on some of our tweets in order to confirm which football season the dataset is from."
   ]
  },
  {
   "cell_type": "code",
   "execution_count": 9,
   "id": "1a100728-b1a2-4cf3-965b-c62dcd10b71e",
   "metadata": {},
   "outputs": [
    {
     "name": "stdout",
     "output_type": "stream",
     "text": [
      "2018-07-26 13:39:30+00:00\n",
      "2018-07-26 13:39:30+00:00\n",
      "2018-07-26 13:39:31+00:00\n",
      "2018-07-26 13:39:33+00:00\n",
      "2018-07-26 13:39:36+00:00\n",
      "============================\n",
      "2018-07-26 17:03:08+00:00\n"
     ]
    }
   ],
   "source": [
    "# Inspect the dates and times on our first 5 tweets\n",
    "for i in range(5):\n",
    "    print(london_tweets.loc[i][\"created_at\"])\n",
    "\n",
    "print(\"============================\")\n",
    "\n",
    "# Inspect the dates and times on our final tweet\n",
    "print(london_tweets.loc[5340][\"created_at\"])"
   ]
  },
  {
   "cell_type": "markdown",
   "id": "9ac91809-8a19-4bd9-a9c7-8002a819cdbd",
   "metadata": {},
   "source": [
    "It appears that our tweets were taken between 13:39-17:04 on 26th July 2018. A quick internet search tells us that Arsenal were playing an International Champions Cup pre-season friendly against Atletico Madrid, with kick-off at 12:30. \n",
    "\n",
    "We will add both Arsenal and Atletico Madrid squads to our keywords list."
   ]
  },
  {
   "cell_type": "code",
   "execution_count": 10,
   "id": "4059bea6-5700-44a4-8777-ccd233190a7b",
   "metadata": {},
   "outputs": [],
   "source": [
    "# Create a list of keywords\n",
    "keywords = [\"arsenal\", \"gunners\", \"afc\", \"arsvatl\", \"atlvars\", \"arsvmad\", \"madvars\", \"atletico madrid\", \"atleti\",  \n",
    "            \"oblak\", \"juanfran\", \"moya\", \"montero\", \"olabe\", \"munoz\", \"partey\", \"rodri\", \"correa\", \"gameiro\", \"vietto\", \"simeone\",\n",
    "            \"adan\", \"pinchi\", \"rodriguez\", \"isaac\", \"solano\", \"carro\", \"mollejo\", \"garces\", \"dos santos\", \"leno\", \"kolasinac\", \"holding\",\n",
    "            \"mustafi\", \"bellerin\", \"guendouzi\", \"ramsey\", \"aubameyang\", \"smithrowe\", \"nelson\", \"lacazette\", \"emery\", \"cech\", \"chambers\",\n",
    "            \"oseitutu\", \"mavropanos\", \"sokratis\", \"maitlandniles\", \"mkhitaryan\", \"perez\", \"nketiah\", \"willock\"]"
   ]
  },
  {
   "cell_type": "markdown",
   "id": "62d816a4-8db7-4123-bac9-b4468fd110c8",
   "metadata": {},
   "source": [
    "Now that we have our keywords we are going to create and apply our weak labelling function. We will store the class assignments in a new column titled `labels`."
   ]
  },
  {
   "cell_type": "code",
   "execution_count": 11,
   "id": "5025fa82-b416-4bb2-9a33-f61c58095b39",
   "metadata": {},
   "outputs": [
    {
     "data": {
      "text/plain": [
       "0    0\n",
       "1    0\n",
       "2    0\n",
       "3    1\n",
       "4    0\n",
       "Name: labels, dtype: int64"
      ]
     },
     "execution_count": 11,
     "metadata": {},
     "output_type": "execute_result"
    }
   ],
   "source": [
    "# Create our labelling function - #1 for positive class, #0 for negative class\n",
    "def label_tweet(text):\n",
    "    return int(any(word in text for word in keywords))\n",
    "\n",
    "# Apply our labelling function and create a new 'labels' column\n",
    "london_tweets = london_tweets.copy()\n",
    "london_tweets[\"labels\"] = london_tweets[\"cleaned_text\"].apply(label_tweet)\n",
    "\n",
    "# Check our labelling function has successfully labelled the tweets and created a new column\n",
    "london_tweets[\"labels\"].head(5)"
   ]
  },
  {
   "cell_type": "code",
   "execution_count": 12,
   "id": "37894e39-d377-4f47-bf26-243a8f22dc7a",
   "metadata": {},
   "outputs": [
    {
     "data": {
      "text/html": [
       "<div>\n",
       "<style scoped>\n",
       "    .dataframe tbody tr th:only-of-type {\n",
       "        vertical-align: middle;\n",
       "    }\n",
       "\n",
       "    .dataframe tbody tr th {\n",
       "        vertical-align: top;\n",
       "    }\n",
       "\n",
       "    .dataframe thead th {\n",
       "        text-align: right;\n",
       "    }\n",
       "</style>\n",
       "<table border=\"1\" class=\"dataframe\">\n",
       "  <thead>\n",
       "    <tr style=\"text-align: right;\">\n",
       "      <th></th>\n",
       "      <th>text</th>\n",
       "      <th>cleaned_text</th>\n",
       "    </tr>\n",
       "  </thead>\n",
       "  <tbody>\n",
       "    <tr>\n",
       "      <th>3</th>\n",
       "      <td>Penalty shit out Arsenal</td>\n",
       "      <td>penalty shit out arsenal</td>\n",
       "    </tr>\n",
       "    <tr>\n",
       "      <th>45</th>\n",
       "      <td>Ok. These guys need to work on their spot kick...</td>\n",
       "      <td>ok these guys need to work on their spot kicks...</td>\n",
       "    </tr>\n",
       "    <tr>\n",
       "      <th>47</th>\n",
       "      <td>Arsenal lose on Pens 😊</td>\n",
       "      <td>arsenal lose on pens</td>\n",
       "    </tr>\n",
       "    <tr>\n",
       "      <th>70</th>\n",
       "      <td>What a pen by Adan</td>\n",
       "      <td>what a pen by adan</td>\n",
       "    </tr>\n",
       "    <tr>\n",
       "      <th>77</th>\n",
       "      <td>Arsenal need to work on pens because thats the...</td>\n",
       "      <td>arsenal need to work on pens because thats the...</td>\n",
       "    </tr>\n",
       "  </tbody>\n",
       "</table>\n",
       "</div>"
      ],
      "text/plain": [
       "                                                 text  \\\n",
       "3                            Penalty shit out Arsenal   \n",
       "45  Ok. These guys need to work on their spot kick...   \n",
       "47                             Arsenal lose on Pens 😊   \n",
       "70                                 What a pen by Adan   \n",
       "77  Arsenal need to work on pens because thats the...   \n",
       "\n",
       "                                         cleaned_text  \n",
       "3                            penalty shit out arsenal  \n",
       "45  ok these guys need to work on their spot kicks...  \n",
       "47                               arsenal lose on pens  \n",
       "70                                 what a pen by adan  \n",
       "77  arsenal need to work on pens because thats the...  "
      ]
     },
     "execution_count": 12,
     "metadata": {},
     "output_type": "execute_result"
    }
   ],
   "source": [
    "# Print first 5 tweets in the positive class\n",
    "london_tweets[london_tweets[\"labels\"] == 1][[\"text\", \"cleaned_text\"]].head(5)"
   ]
  },
  {
   "cell_type": "markdown",
   "id": "eb612027-0d0c-483e-a3be-52dfec0abe9c",
   "metadata": {},
   "source": [
    "We have successfully weakly labelled our tweets, and after printing out some examples it appears Arsenal lost the game on penalties.\n",
    "\n",
    "Our next task is to vectorise our data. This converts text strings into numbers, which allows us to input them into our model. We will initially opt for TF-IDF Vectorisation over Count Vectorisation as we are dealing with a fairly small dataset and it allows us to put more emphasis on rarer, more predictive words."
   ]
  },
  {
   "cell_type": "code",
   "execution_count": 13,
   "id": "70948fde-b91a-4971-b20d-fd248152d48b",
   "metadata": {},
   "outputs": [],
   "source": [
    "# Initialise our TF-IDF Vectoriser\n",
    "vectoriser = TfidfVectorizer(max_features=10000)\n",
    "\n",
    "# Fit on cleaned tweets and transform into a feature matrix\n",
    "X = vectoriser.fit_transform(london_tweets[\"cleaned_text\"])\n",
    "\n",
    "# Assign our labels\n",
    "y = london_tweets[\"labels\"]"
   ]
  },
  {
   "cell_type": "markdown",
   "id": "d451983f-4fd0-42fa-95c8-e62aa43a1ea3",
   "metadata": {},
   "source": [
    " "
   ]
  },
  {
   "cell_type": "markdown",
   "id": "7ef3079e-f1ec-4a7e-9ea5-2752959c6c8d",
   "metadata": {},
   "source": [
    " "
   ]
  },
  {
   "cell_type": "markdown",
   "id": "5bd99c59-781b-4b98-891b-c6ef6434dcd4",
   "metadata": {},
   "source": [
    " "
   ]
  },
  {
   "cell_type": "markdown",
   "id": "7a6a52d2-57c4-4938-8693-9e2030be84ed",
   "metadata": {},
   "source": [
    "## Analysing Data"
   ]
  },
  {
   "cell_type": "markdown",
   "id": "40653e9f-0715-4ff6-8f67-0bdececc1e83",
   "metadata": {},
   "source": [
    "Our next step is to split our data into train and test sets, train our Naive Bayes classifier, and evaluate its performance on the test set."
   ]
  },
  {
   "cell_type": "code",
   "execution_count": 14,
   "id": "2c69b9b8-971c-444d-aea0-47bd2f090979",
   "metadata": {},
   "outputs": [
    {
     "name": "stdout",
     "output_type": "stream",
     "text": [
      "Confusion Matrix:\n",
      "[[963   0]\n",
      " [  5   0]]\n",
      "\n",
      "Classification Report:\n",
      "              precision    recall  f1-score   support\n",
      "\n",
      "           0       0.99      1.00      1.00       963\n",
      "           1       0.00      0.00      0.00         5\n",
      "\n",
      "    accuracy                           0.99       968\n",
      "   macro avg       0.50      0.50      0.50       968\n",
      "weighted avg       0.99      0.99      0.99       968\n",
      "\n"
     ]
    }
   ],
   "source": [
    "# Split the vectorised features (X) and labels (y)\n",
    "X_train, X_test, y_train, y_test = train_test_split(X, y, test_size = 0.2, stratify = y, random_state = 42)\n",
    "\n",
    "# Initialise and train the model\n",
    "nb_model = MultinomialNB()\n",
    "nb_model.fit(X_train, y_train)\n",
    "\n",
    "# Make predictions on our test set\n",
    "y_pred = nb_model.predict(X_test)\n",
    "\n",
    "# Print out our performance metrics\n",
    "print(\"Confusion Matrix:\")\n",
    "print(confusion_matrix(y_test, y_pred))\n",
    "print(\"\\nClassification Report:\")\n",
    "print(classification_report(y_test, y_pred, zero_division=0))"
   ]
  },
  {
   "cell_type": "markdown",
   "id": "0df2ca4e-0318-41aa-acd0-2f718c5c079c",
   "metadata": {},
   "source": [
    "We have succesfully trained the model and measured its performance on the test set. However, we are met with an 'UndefinedMetricWarning' regarding our performance metrics. To try and understand the issue, we will start by printing out the class distributions for our train and test sets."
   ]
  },
  {
   "cell_type": "code",
   "execution_count": 15,
   "id": "6f69343f-a313-4f73-9167-9fd9d023195b",
   "metadata": {},
   "outputs": [
    {
     "name": "stdout",
     "output_type": "stream",
     "text": [
      "Training label distribution:\n",
      "labels\n",
      "0    0.994314\n",
      "1    0.005686\n",
      "Name: proportion, dtype: float64\n",
      "Test label distribution:\n",
      "labels\n",
      "0    0.994835\n",
      "1    0.005165\n",
      "Name: proportion, dtype: float64\n"
     ]
    },
    {
     "data": {
      "text/plain": [
       "np.int64(27)"
      ]
     },
     "execution_count": 15,
     "metadata": {},
     "output_type": "execute_result"
    }
   ],
   "source": [
    "# Print our training class distribution\n",
    "print(\"Training label distribution:\")\n",
    "print(y_train.value_counts(normalize=True))\n",
    "\n",
    "# Print our testing class distribution\n",
    "print(\"Test label distribution:\")\n",
    "print(y_test.value_counts(normalize=True))\n",
    "\n",
    "# Sum the 'labels' column to see how many tweets were weakly labelled as the positive class \n",
    "london_tweets[\"labels\"].sum()"
   ]
  },
  {
   "cell_type": "markdown",
   "id": "35d20c2b-aab3-4951-a86b-b16596563e9c",
   "metadata": {},
   "source": [
    "We can see that the overwhelming majority of tweets were weakly labelled as the negative class (99.4%). There are 2 likely causes of this:\n",
    "\n",
    "1) A general lack of tweets regarding the Arsenal game\n",
    "2) Our `keywords` list is too specific and, in turn, our weak labelling system is too strict\n",
    "\n",
    "We will start by investigating the first option. Earlier we removed 200 tweets to be part of our gold standard test set; we will now manually classify these. Even though 200 tweets is not a huge sample, it should give us an indication as to whether the issue lies within our labelling system or not. This will also help identify any keywords we may have missed."
   ]
  },
  {
   "cell_type": "code",
   "execution_count": 16,
   "id": "97312c05-ebde-4aa9-926b-eee7412097e6",
   "metadata": {},
   "outputs": [],
   "source": [
    "# Defaulting our label assignment for every tweet to 0\n",
    "gold_test[\"true_labels\"] = 0"
   ]
  },
  {
   "cell_type": "code",
   "execution_count": 17,
   "id": "c48056bc-6d56-456c-b78c-87a15cb98ec6",
   "metadata": {},
   "outputs": [
    {
     "name": "stdout",
     "output_type": "stream",
     "text": [
      "Index: 3365\n",
      "Original: Hold yourself accountable\n",
      "----------------------------------------------------------------------------------------------------\n",
      "Index: 1945\n",
      "Original: @Winston_Dunhill 15 llevo en Europa. Esto es absolutamente inaceptable.\n",
      "----------------------------------------------------------------------------------------------------\n",
      "Index: 5336\n",
      "Original: Here's a warning from MEP @CharlesTannock which suggests that the Tory Brextremists have destructive intentions whi… https://t.co/pNM795NZPW\n",
      "----------------------------------------------------------------------------------------------------\n",
      "Index: 4245\n",
      "Original: Home from Hospital what an Enjoyable experience,saw the Man he said how you doing,have you been resting it,he took… https://t.co/lMP26QgJSG\n",
      "----------------------------------------------------------------------------------------------------\n",
      "Index: 168\n",
      "Original: It's 34 degrees wtaf\n",
      "----------------------------------------------------------------------------------------------------\n",
      "Index: 4162\n",
      "Original: roadtrip https://t.co/YeuNqIQPgj\n",
      "----------------------------------------------------------------------------------------------------\n",
      "Index: 4284\n",
      "Original: @TheBlues___ If he signs, at least our 3 keepers will get cheap travel for European games via Saga #cfc\n",
      "----------------------------------------------------------------------------------------------------\n",
      "Index: 422\n",
      "Original: 🌻🐝\n",
      "#sunflowercity @ Hitchin Lavender https://t.co/1nZkvqSKuU\n",
      "----------------------------------------------------------------------------------------------------\n",
      "Index: 4473\n",
      "Original: A wanna drink pink lemonaaade\n",
      "----------------------------------------------------------------------------------------------------\n",
      "Index: 296\n",
      "Original: Hello, please can you point me in the direction of the government based advice team or website set up to help me an… https://t.co/rbOINAu5i3\n",
      "----------------------------------------------------------------------------------------------------\n",
      "Index: 297\n",
      "Original: See our latest #Dartford, England #job and click to apply: Manufacturing Operative - https://t.co/PlrdX9xEji… https://t.co/iqeTnQzIg7\n",
      "----------------------------------------------------------------------------------------------------\n",
      "Index: 3408\n",
      "Original: @rcaveille There are a few longer tail that don’t, think the point solutions etc\n",
      "----------------------------------------------------------------------------------------------------\n",
      "Index: 1477\n",
      "Original: @RachelFriendly you’re in so much of my news feed. Fuck off babes x\n",
      "----------------------------------------------------------------------------------------------------\n",
      "Index: 418\n",
      "Original: Check out\n",
      "@ThaOfficialRB last night \n",
      "\n",
      "petok_productions\n",
      "\n",
      "shopfrontstudios \n",
      "Wood Green N22 6UJ🎶 \n",
      "Live Music on\n",
      "Wedne… https://t.co/na0EsAPB6b\n",
      "----------------------------------------------------------------------------------------------------\n",
      "Index: 1049\n",
      "Original: @LearnerLedLdr @TheHopefulHT @WomenEdSW It is, Ruth, and this is an important study, we think. Especially the part… https://t.co/NHYibzFvy4\n",
      "----------------------------------------------------------------------------------------------------\n",
      "Index: 3714\n",
      "Original: @SouthernRailUK Sorry, couldn't go there. Train is packed. I'm on coach number 3 and we're now at East Croydon.\n",
      "----------------------------------------------------------------------------------------------------\n",
      "Index: 1820\n",
      "Original: @ClinicalShaqiri @joshbettison @LFC Calm down!\n",
      "----------------------------------------------------------------------------------------------------\n",
      "Index: 84\n",
      "Original: @norm1314 Hahahahaha good luck!!\n",
      "----------------------------------------------------------------------------------------------------\n",
      "Index: 1902\n",
      "Original: @MumsUnltd @Synergy_Support @ZoeDouthwaite @awardschamp Yes a broken leg and ankle means I won’t be there but wishi… https://t.co/zvpSERkCCc\n",
      "----------------------------------------------------------------------------------------------------\n",
      "Index: 4326\n",
      "Original: Meditation and spiritual conversations\n",
      "\n",
      " 2/8/18 7-8pm\n",
      "\n",
      "Newport Centre, 1 Kingsway, NP20 1UH\n",
      " \n",
      "Join us at the NP Cen… https://t.co/RFGwjDmHsT\n",
      "----------------------------------------------------------------------------------------------------\n",
      "Index: 2549\n",
      "Original: @musicalchants They would only melt. London is very scary Temperature right now. And Tomorrow could reach up to 39 Celsius. ❤️🏳️‍🌈❤️\n",
      "----------------------------------------------------------------------------------------------------\n",
      "Index: 705\n",
      "Original: Me with the cast of #MadagascarTheMusical Belly laughs galore watching this last night! Lovely light hearted fun fo… https://t.co/UaIzCO4F4R\n",
      "----------------------------------------------------------------------------------------------------\n",
      "Index: 3826\n",
      "Original: Read between the lines 💣💥💣💥\n",
      "Comment below what you think?\n",
      "\n",
      "Follow: \n",
      "@Squeechie\n",
      "1millionairesuccess 💯💯 we share only… https://t.co/CoH7hVp342\n",
      "----------------------------------------------------------------------------------------------------\n",
      "Index: 3271\n",
      "Original: @Bbmorg @jerrylad @LBC https://t.co/KUe2ekZUQA\n",
      "----------------------------------------------------------------------------------------------------\n",
      "Index: 4296\n",
      "Original: @MaximinGourcy @Fly_Norwegian Great advice, thank you!!\n",
      "----------------------------------------------------------------------------------------------------\n",
      "Index: 2099\n",
      "Original: @HosseinFadavi @khanomirany من دفاع از کار اونها نمیکنم ولی از نهی شما هم دفاع نمیکنم\n",
      "----------------------------------------------------------------------------------------------------\n",
      "Index: 5088\n",
      "Original: @CLSC2 Thank you for all your support - great #fellowship and #charity 😀\n",
      "----------------------------------------------------------------------------------------------------\n",
      "Index: 3194\n",
      "Original: За мной сидит охрана и я не могу фоткать тк у меня заберут телефон\n",
      "----------------------------------------------------------------------------------------------------\n",
      "Index: 1672\n",
      "Original: Ah bon https://t.co/QlF64ZLPB2\n",
      "----------------------------------------------------------------------------------------------------\n",
      "Index: 1188\n",
      "Original: Down House (the home of Charles Darwin) #localhistory https://t.co/qVtfMigrcR\n",
      "----------------------------------------------------------------------------------------------------\n",
      "Index: 5111\n",
      "Original: Scrim please\n",
      "----------------------------------------------------------------------------------------------------\n",
      "Index: 3318\n",
      "Original: Temp: 35.9°C Rising. Wind max(last 10mins):11.1mph. Pressure: 1009.8hpa Falling. Rain Today 0.0mm. Rainfall last 24hrs 0.0mm. #reigate\n",
      "----------------------------------------------------------------------------------------------------\n",
      "Index: 1044\n",
      "Original: @DonaldJTrumpJr @heidiEC5 All twitter influencers local or international \n",
      "You Are Not Alone  #twitterrapture\n",
      "----------------------------------------------------------------------------------------------------\n",
      "Index: 1743\n",
      "Original: Rethinking Gender Conventions in Stieg Larsson’s Millennium Trilogy. I made it! And this is just the beginning. 💪🏼… https://t.co/xmMHWiqNXC\n",
      "----------------------------------------------------------------------------------------------------\n",
      "Index: 290\n",
      "Original: 🎵 Whats this? Deal Radio has a new website in progress and you guys can check it out!? How you ask? Just check out… https://t.co/ZpHBYHDA1J\n",
      "----------------------------------------------------------------------------------------------------\n",
      "Index: 5229\n",
      "Original: 360 360 360 🏄🏻‍♂️🏄🏻‍♂️🏄🏻‍♂️🏄🏻‍♂️🏄🏻‍♂️🏄🏻‍♂️ https://t.co/RiIlg4O0cy\n",
      "----------------------------------------------------------------------------------------------------\n",
      "Index: 5328\n",
      "Original: Rain drops required in this heat 😏💧 @nemnemrestaura2 #freshmikeeats @ Nem Nem London https://t.co/1vFvrF566O\n",
      "----------------------------------------------------------------------------------------------------\n",
      "Index: 3322\n",
      "Original: #weatherhutton #essex Precipitation at times, very unsettled Temp 33.7°C Humid 38% Wind 2.0mph ESE Baro 1010.67 hPa Falling slowly Rain Toda\n",
      "----------------------------------------------------------------------------------------------------\n",
      "Index: 2078\n",
      "Original: Every job interview I’ve had in the last two weeks the interviewer has been called Daniel how weird is that\n",
      "----------------------------------------------------------------------------------------------------\n",
      "Index: 8\n",
      "Original: London is the hottest at the moment, travelling on the tubes and trains would be absolutely bonkers. We are not bui… https://t.co/RxedcAxv13\n",
      "----------------------------------------------------------------------------------------------------\n",
      "Index: 2917\n",
      "Original: Today’s one of them fully strip off naked to use the toilet days 😅\n",
      "----------------------------------------------------------------------------------------------------\n",
      "Index: 2063\n",
      "Original: Thread Full Mumsnet &gt;&gt; https://t.co/9OcLK1CYvS\n",
      "----------------------------------------------------------------------------------------------------\n",
      "Index: 1468\n",
      "Original: Something for long car journeys or siting in the garden in the shade. \n",
      "\n",
      "You can still take an @AccReader quiz on bo… https://t.co/1EgGnjFrfg\n",
      "----------------------------------------------------------------------------------------------------\n",
      "Index: 4399\n",
      "Original: @BobellsR @Love_Promise_S I said can I have a photo Chico ooh he said yes and put his arm around me 😘💁🏻\n",
      "----------------------------------------------------------------------------------------------------\n",
      "Index: 2677\n",
      "Original: I’m in a lovely book sandwich 😊 https://t.co/oSr39J8QJn\n",
      "----------------------------------------------------------------------------------------------------\n",
      "Index: 2083\n",
      "Original: @Ag5Scooby On my radar 😂\n",
      "----------------------------------------------------------------------------------------------------\n",
      "Index: 4826\n",
      "Original: Don't believe everything you think.\n",
      "----------------------------------------------------------------------------------------------------\n",
      "Index: 4552\n",
      "Original: @BBCScotlandNews ..And dinae mine' the hay fever folks, if THAT starts happenin' it wid be enuf tae make yir eyes W… https://t.co/LhG0xCsOb2\n",
      "----------------------------------------------------------------------------------------------------\n",
      "Index: 683\n",
      "Original: @leogregs hi, do you remember me?\n",
      "----------------------------------------------------------------------------------------------------\n",
      "Index: 3562\n",
      "Original: Hottest day of the year and I’m stuck inside at home ill 😷\n",
      "----------------------------------------------------------------------------------------------------\n",
      "Index: 2651\n",
      "Original: Benvenuto 🐀 https://t.co/LGsjZRJGZR\n",
      "----------------------------------------------------------------------------------------------------\n",
      "Index: 5017\n",
      "Original: @Omarvelli 😂😂😂😂😂 Rainin wayon yawa\n",
      "----------------------------------------------------------------------------------------------------\n",
      "Index: 812\n",
      "Original: We came to visit the Queen, but she weren't at home! Oh well, maybe next time 😉 #beingtourists #sightseeing… https://t.co/ZkFekJbaUg\n",
      "----------------------------------------------------------------------------------------------------\n",
      "Index: 2641\n",
      "Original: @RhodriTomos1 @DrSheilaTyler @proud48percent @helenmallam @VesperUK @darrengrimes_ Who doesn't want that? And every… https://t.co/fA6op76Qkr\n",
      "----------------------------------------------------------------------------------------------------\n",
      "Index: 346\n",
      "Original: @hewesyp @FourPot140 Sounds good!\n",
      "----------------------------------------------------------------------------------------------------\n",
      "Index: 3303\n",
      "Original: @emma_jane_xo Maybe that’s the way they intended to pronounce it? I don’t know. I’m not very cultured haha\n",
      "----------------------------------------------------------------------------------------------------\n",
      "Index: 2833\n",
      "Original: @nfum_norwich @NorfolkCB U11’s 30-1 off 10 overs chasing @BedsCricket 168\n",
      "----------------------------------------------------------------------------------------------------\n",
      "Index: 3206\n",
      "Original: Love seeing this back in my timeline #gbdoc https://t.co/D7HJ2LKyQE\n",
      "----------------------------------------------------------------------------------------------------\n",
      "Index: 33\n",
      "Original: I'm at @SurreyRugCare in Cheam https://t.co/E5q0bHZvIg\n",
      "----------------------------------------------------------------------------------------------------\n",
      "Index: 3607\n",
      "Original: #Wanted. One responsible owner. Would you leave your TV unattended like this... No?? - Ok so lock, chain &amp; cover.… https://t.co/SRQvxcimy8\n",
      "----------------------------------------------------------------------------------------------------\n",
      "Index: 1084\n",
      "Original: @meandorla You can't believe what people think can you.\n",
      "----------------------------------------------------------------------------------------------------\n",
      "Index: 3838\n",
      "Original: The boss is back! 👍😀❤🙏👌🔴😈 https://t.co/wXyaL1pSPq\n",
      "----------------------------------------------------------------------------------------------------\n",
      "Index: 4476\n",
      "Original: @tompinks I hope so, I really do!\n",
      "----------------------------------------------------------------------------------------------------\n",
      "Index: 2968\n",
      "Original: Britney can and should*\n",
      "\n",
      "But won’t 😞 https://t.co/ech66OV0a0\n",
      "----------------------------------------------------------------------------------------------------\n",
      "Index: 5064\n",
      "Original: @JackJanuary Next time, u wanna offer🌚\n",
      "----------------------------------------------------------------------------------------------------\n",
      "Index: 794\n",
      "Original: @TransferPosts\n",
      "----------------------------------------------------------------------------------------------------\n",
      "Index: 2463\n",
      "Original: بعض المجتمعات المنهارة حضاريآ وثقافيآ،، ثم إقتصاديآ تطفو على السطح تفاهة القضايا التي تشغلهم ويتناولها حتى من يدعي… https://t.co/4Sgr1lYHf7\n",
      "----------------------------------------------------------------------------------------------------\n",
      "Index: 4966\n",
      "Original: @JudeClarke You beauts xxxx\n",
      "----------------------------------------------------------------------------------------------------\n",
      "Index: 3555\n",
      "Original: Now I’m in need of a very large cold gin 🍸🍸🍸 https://t.co/1NmmAw86NK\n",
      "----------------------------------------------------------------------------------------------------\n",
      "Index: 5333\n",
      "Original: @sajid2kmatami @dominic_riley1 @samuelluckhurst It does a bit because he had to lose Coutinho to gain Van Dijk and… https://t.co/YBVhXCRGv4\n",
      "----------------------------------------------------------------------------------------------------\n",
      "Index: 5059\n",
      "Original: The U.K. is a Brexity kettle of fish. https://t.co/AMiMeVO1kh\n",
      "----------------------------------------------------------------------------------------------------\n",
      "Index: 1533\n",
      "Original: Be honest, be truthful, be the one who makes a difference, be the one who leads by example, be the light on earth;… https://t.co/lcMNfoUvLE\n",
      "----------------------------------------------------------------------------------------------------\n",
      "Index: 3782\n",
      "Original: Taken 2011 in Tenerife https://t.co/CSpHllc5gn\n",
      "----------------------------------------------------------------------------------------------------\n",
      "Index: 2886\n",
      "Original: The #garden #fountain can be use anywhere by just plug it to any garden hose. Your #dog will therefore have access… https://t.co/NAIIriHjwL\n",
      "----------------------------------------------------------------------------------------------------\n",
      "Index: 3265\n",
      "Original: Interested in a #job in #HemelHempstead, England? This could be a great fit: https://t.co/drM4e6XXJ8 #SkilledTrade #Hiring #CareerArc\n",
      "----------------------------------------------------------------------------------------------------\n",
      "Index: 2615\n",
      "Original: @JamieGiberti I could never!!\n",
      "----------------------------------------------------------------------------------------------------\n",
      "Index: 4253\n",
      "Original: nooo :( https://t.co/vCUENgnwfF\n",
      "----------------------------------------------------------------------------------------------------\n",
      "Index: 1665\n",
      "Original: @joehagansays @AAKnopf I love that. It looks like a vintage poster from the 60's.\n",
      "----------------------------------------------------------------------------------------------------\n",
      "Index: 907\n",
      "Original: Runners: I didn't get up early enough to run this morning. Will it be cool enough by 8:30 pm or should I give up an… https://t.co/HwmGn4EzZt\n",
      "----------------------------------------------------------------------------------------------------\n",
      "Index: 787\n",
      "Original: \"Saxa salt TW3\" in #Hounslow #UnitedKingdom https://t.co/7nNRp5ipCg #foodwaste #free\n",
      "----------------------------------------------------------------------------------------------------\n",
      "Index: 4204\n",
      "Original: How Jon Hopkins and Young Fathers didn’t manage a Mercury Prize nomination but Noel Gallagher and Lilly Allen did is beyond belief\n",
      "----------------------------------------------------------------------------------------------------\n",
      "Index: 4189\n",
      "Original: Now in Tooting!!! https://t.co/8114a5Cpol\n",
      "----------------------------------------------------------------------------------------------------\n",
      "Index: 15\n",
      "Original: @SheriCopelandUK @madUKtour @NewWimbTheatre @sell_a_door @DaveHutchinson_ @Jamiecdixon They most certainly are!\n",
      "----------------------------------------------------------------------------------------------------\n",
      "Index: 79\n",
      "Original: @mrpaluvets நல்லா வாயிலையே ஏறி மிதி bro ...\n",
      "----------------------------------------------------------------------------------------------------\n",
      "Index: 279\n",
      "Original: @megabusuk Yes. They’re aware. They’ve said there is nothing they can do. Surely things like that should have been… https://t.co/xGWfgLnODa\n",
      "----------------------------------------------------------------------------------------------------\n",
      "Index: 1615\n",
      "Original: @zerowalls @mollo24 I would add Rojo to that list, look how well Young has done out of position, while I agree some… https://t.co/v1DrVg0xBK\n",
      "----------------------------------------------------------------------------------------------------\n",
      "Index: 642\n",
      "Original: Summer holidays have just reminded me why I was scared to have a baby\n",
      "----------------------------------------------------------------------------------------------------\n",
      "Index: 2053\n",
      "Original: Totally obsessed with The Handmaids Tale! Started watching yesterday and I’m on episode 6 already\n",
      "----------------------------------------------------------------------------------------------------\n",
      "Index: 534\n",
      "Original: @prohorsetrader Still living the good life I hope....\n",
      "----------------------------------------------------------------------------------------------------\n",
      "Index: 3951\n",
      "Original: Filming for creativecapturemedia today in the hiltonwembley using the new djiglobal Ronin-S. \n",
      "📸 - @CCMedia2014 \n",
      "\n",
      "•… https://t.co/Fbea4IsGXa\n",
      "----------------------------------------------------------------------------------------------------\n",
      "Index: 4681\n",
      "Original: These long summer evenings are perfect for a family photo session.  No matter how grown up your children family pho… https://t.co/iT033UHGmk\n",
      "----------------------------------------------------------------------------------------------------\n",
      "Index: 2456\n",
      "Original: @IL0VEthe80s soap\n",
      "----------------------------------------------------------------------------------------------------\n",
      "Index: 915\n",
      "Original: @jpalmiotti saw it a couple of weeks ago. It was fun;)\n",
      "----------------------------------------------------------------------------------------------------\n",
      "Index: 2488\n",
      "Original: This should take you to the open access link @mooreosteopathy @MattLowPT https://t.co/ABrnuedEOc https://t.co/8abKcjU5hX\n",
      "----------------------------------------------------------------------------------------------------\n",
      "Index: 2704\n",
      "Original: wtf https://t.co/OIaqqmKKeF\n",
      "----------------------------------------------------------------------------------------------------\n",
      "Index: 2619\n",
      "Original: @the_max_doom £4.70 all in. Just a little bakery/cafe in the shit shopping centre in Stratford.\n",
      "----------------------------------------------------------------------------------------------------\n",
      "Index: 4985\n",
      "Original: Great day at @zsllondonzoo, weather was great and I had amazing company https://t.co/T1rZwj69PF\n",
      "----------------------------------------------------------------------------------------------------\n",
      "Index: 1471\n",
      "Original: 🤝🙏🏾 https://t.co/z4SomUIacl\n",
      "----------------------------------------------------------------------------------------------------\n",
      "Index: 3076\n",
      "Original: @nadia_a_mirza Oh my God......this election is ultimate demise of ppp.\n",
      "----------------------------------------------------------------------------------------------------\n",
      "Index: 4259\n",
      "Original: Cara, tu ve umas minas aqui. Máximo de 16/17 anos!!! Mas caralho, que vitamina elas tomam? Às vezes eu dou uma olha… https://t.co/xAXNVSEeef\n",
      "----------------------------------------------------------------------------------------------------\n",
      "Index: 23\n",
      "Original: What just happened in these penalties ?\n",
      "----------------------------------------------------------------------------------------------------\n",
      "Index: 3606\n",
      "Original: 25% of tickets have gone! I’m truly honoured and shocked at the response from people. All ticket sales pay the band… https://t.co/SH7yJfiZFH\n",
      "----------------------------------------------------------------------------------------------------\n",
      "Index: 471\n",
      "Original: J’ai envie de me maquiller mais étant donner que je mets au moins 6 couches sur mon visage si c’est pour dégouliner… https://t.co/8IqOFklOly\n",
      "----------------------------------------------------------------------------------------------------\n",
      "Index: 4706\n",
      "Original: @TheDonRaab Congrats Don. Well deserved!\n",
      "----------------------------------------------------------------------------------------------------\n",
      "Index: 2826\n",
      "Original: I'm at London Blackfriars Railway Station (BFR) - @nationalrailenq in Blackfriars, Greater London https://t.co/DhMaBSFM8w\n",
      "----------------------------------------------------------------------------------------------------\n",
      "Index: 4165\n",
      "Original: Going to be pure 🔥 https://t.co/YcXYlsuHkt\n",
      "----------------------------------------------------------------------------------------------------\n",
      "Index: 3084\n",
      "Original: @Hugh_Fran @_DanielRyan @GaryLineker Brilliant 👌🏼 glad to see you use twitter to its full potential 🙄\n",
      "----------------------------------------------------------------------------------------------------\n",
      "Index: 4670\n",
      "Original: @AFCWimbledon Brilliant! When we do this kind of thing we are awesome. Let’s do it more. Well done to all involved.\n",
      "----------------------------------------------------------------------------------------------------\n",
      "Index: 3091\n",
      "Original: Why would you tag yourself in a racist remark with an exclamation mark?? Does she relate to what’s being tweeted or… https://t.co/zus7dSjYqm\n",
      "----------------------------------------------------------------------------------------------------\n",
      "Index: 3479\n",
      "Original: @CiaranCPFC @CPFC Has he signed?\n",
      "----------------------------------------------------------------------------------------------------\n",
      "Index: 4707\n",
      "Original: @OskarPoet 😂😂😂😂 Eyyy 👀\n",
      "----------------------------------------------------------------------------------------------------\n",
      "Index: 1411\n",
      "Original: @bexmb I’m with you!\n",
      "----------------------------------------------------------------------------------------------------\n",
      "Index: 4093\n",
      "Original: @spursshow #spursst Gilly scored 133 goals for Spurs\n",
      "----------------------------------------------------------------------------------------------------\n",
      "Index: 2133\n",
      "Original: I just want to bring your life some peace...💕🌈\n",
      "#NewMusicAlert #artists #followback #Likes #PRIDE #FREESTYLE103… https://t.co/tbBazoadrU\n",
      "----------------------------------------------------------------------------------------------------\n",
      "Index: 1658\n",
      "Original: @zerowalls @mollo24 Maybe he’s not doing enough in training, unlike you I don’t have access to inside knowledge......\n",
      "----------------------------------------------------------------------------------------------------\n",
      "Index: 5260\n",
      "Original: This time last week I was getting ready for my first night out since I finished chemotherapy. I was excited but ter… https://t.co/PJsS8XgnIt\n",
      "----------------------------------------------------------------------------------------------------\n",
      "Index: 4829\n",
      "Original: YEAH, WE’RE ON A ROLL. COMING SOON. - https://t.co/1bAkNNjjbu https://t.co/VvU8JmdOOJ\n",
      "----------------------------------------------------------------------------------------------------\n",
      "Index: 4369\n",
      "Original: https://t.co/cslKSefYem\n",
      "----------------------------------------------------------------------------------------------------\n",
      "Index: 4546\n",
      "Original: @LauraMSteven Bah! See prev message! Am gutted to be missing you.\n",
      "----------------------------------------------------------------------------------------------------\n",
      "Index: 3276\n",
      "Original: What a scorcher! Splash Point, Seaford :-) The inspiration for #splashpointjazz Clubs. And TONIGHT come and cool do… https://t.co/k8tL2XTWqe\n",
      "----------------------------------------------------------------------------------------------------\n",
      "Index: 2753\n",
      "Original: @dannynasrous @pettyfilou @shanthinai Ahem! I hope I made the top ten at least! https://t.co/q4cb7TDnZp\n",
      "----------------------------------------------------------------------------------------------------\n",
      "Index: 373\n",
      "Original: @RideLondon ☝🏾\n",
      "----------------------------------------------------------------------------------------------------\n",
      "Index: 3770\n",
      "Original: Green fingered https://t.co/I1NhxDiZlU\n",
      "----------------------------------------------------------------------------------------------------\n",
      "Index: 599\n",
      "Original: @HeronChe Lol who?\n",
      "----------------------------------------------------------------------------------------------------\n",
      "Index: 4665\n",
      "Original: Lords and ladies get their comeuppance @ Muckleburgh Tank Museum https://t.co/YfIxY5XEds\n",
      "----------------------------------------------------------------------------------------------------\n",
      "Index: 2015\n",
      "Original: @martapedz We don’t don’t have anything specific booked for oxford but you could check our website and see if there… https://t.co/e9elzOGQoP\n",
      "----------------------------------------------------------------------------------------------------\n",
      "Index: 763\n",
      "Original: 💙💜💙💜 https://t.co/YwpU7CWOH7\n",
      "----------------------------------------------------------------------------------------------------\n",
      "Index: 3375\n",
      "Original: Awite Effafur? https://t.co/J2PyIA4OzX\n",
      "----------------------------------------------------------------------------------------------------\n",
      "Index: 5265\n",
      "Original: Topped 36.c on the underground today. No wonder my white shirt was transparent when I got home! #londonheatwave\n",
      "----------------------------------------------------------------------------------------------------\n",
      "Index: 1194\n",
      "Original: Uncle slapped a hefty hand on he’s shoulder seconds later 😂😂😂 https://t.co/eFb5TGumy6\n",
      "----------------------------------------------------------------------------------------------------\n",
      "Index: 625\n",
      "Original: @rainy101 Watching nick knowles again?\n",
      "----------------------------------------------------------------------------------------------------\n",
      "Index: 2633\n",
      "Original: 😑 back tomorrow. This time we will do that walk again and we will not get robbed 💪🏻 https://t.co/8SvymkBtxh\n",
      "----------------------------------------------------------------------------------------------------\n",
      "Index: 410\n",
      "Original: Brixton’s Baddest\n",
      "South Bank, London. July 2018\n",
      "\n",
      "https://t.co/mXHX84YKGa\n",
      "#streetphotography #street @StreetPhotoInt… https://t.co/JziJl06jzB\n",
      "----------------------------------------------------------------------------------------------------\n",
      "Index: 2751\n",
      "Original: Everyone in the UK 🇬🇧 https://t.co/3vQCo6rAMF\n",
      "----------------------------------------------------------------------------------------------------\n",
      "Index: 977\n",
      "Original: @chrisrwright My fave..\n",
      "----------------------------------------------------------------------------------------------------\n",
      "Index: 3259\n",
      "Original: we have rain but its only a sprinkling\n",
      "----------------------------------------------------------------------------------------------------\n",
      "Index: 4917\n",
      "Original: Snow White in #stockings with james_millar7 on #photography.  \n",
      ".\n",
      "#model #porcelain #englishrose #paleskin #redlips… https://t.co/RiOfvKJmrM\n",
      "----------------------------------------------------------------------------------------------------\n",
      "Index: 3679\n",
      "Original: @shadaisy @Lou_by_Louise @RealToddHaynes Everytime I watch this (quite often), I still get that same feeling of feeling alive at the end.\n",
      "----------------------------------------------------------------------------------------------------\n",
      "Index: 3053\n",
      "Original: @NatWestBusiness Do you have to be gay to open a business account with your bank, and if so what proof options do you require?\n",
      "----------------------------------------------------------------------------------------------------\n",
      "Index: 776\n",
      "Original: \"Asda seafood sauce unopened TW3\" in #Hounslow #UnitedKingdom https://t.co/J6j9kXqR1x #foodwaste #free\n",
      "----------------------------------------------------------------------------------------------------\n",
      "Index: 4037\n",
      "Original: He'd have probably got to the hemlock earlier, in truth. https://t.co/A5x4V0moek\n",
      "----------------------------------------------------------------------------------------------------\n",
      "Index: 4387\n",
      "Original: London has the most attractive men I have ever seen; case closed goodbye https://t.co/jji78ksjxB\n",
      "----------------------------------------------------------------------------------------------------\n",
      "Index: 4604\n",
      "Original: @sarahjphughes WHO IS OCCUPYING THE DREADFORT NOW?!\n",
      "----------------------------------------------------------------------------------------------------\n",
      "Index: 2459\n",
      "Original: 😂😂😂 my skin is exactly like this. The sun actually makes my eczema flare up. I hate it. https://t.co/uTJXFQKGFf\n",
      "----------------------------------------------------------------------------------------------------\n",
      "Index: 4790\n",
      "Original: @KipMooreMusic heart's desire, what ya got on tonight, last shot, plead the fifth, more girls like you!! 💕\n",
      "----------------------------------------------------------------------------------------------------\n",
      "Index: 80\n",
      "Original: @LeeRender I love a good swim in fresh water, and you can whip your kecks off if you like (but don't drop them or they'll sink lol).\n",
      "----------------------------------------------------------------------------------------------------\n",
      "Index: 2045\n",
      "Original: I’m gonna holla at my uni lecturers see if they’ll give me a reference\n",
      "----------------------------------------------------------------------------------------------------\n",
      "Index: 4383\n",
      "Original: I have my best socio-political discourse in those aisles down my local Tesco express already I’ll have you know !?… https://t.co/V9CIS3yM2P\n",
      "----------------------------------------------------------------------------------------------------\n",
      "Index: 3874\n",
      "Original: @treaclewaffle Thank you angel\n",
      "----------------------------------------------------------------------------------------------------\n",
      "Index: 4356\n",
      "Original: @Maurizi80900188 @nellina99 @ilmessaggeroit Le rendo noto che ne’ Renzi ne’Boschi sono mai stati rinviati a giudizi… https://t.co/P4wrhkZfx4\n",
      "----------------------------------------------------------------------------------------------------\n",
      "Index: 926\n",
      "Original: Always struggle to appreciate greatness. Wonder why the country is a shitt hole\n",
      "----------------------------------------------------------------------------------------------------\n",
      "Index: 4390\n",
      "Original: Je comprend pas il y a personne de la deuxième session et on m'a donné un ticket genre je suis tout au fond\n",
      "----------------------------------------------------------------------------------------------------\n",
      "Index: 3425\n",
      "Original: Fuck this man I need to get away\n",
      "----------------------------------------------------------------------------------------------------\n",
      "Index: 167\n",
      "Original: Found all the Paddingtons! #paddington #paddingtonstation #london #marmalade @ Paddington Station https://t.co/K5GEukFeyd\n",
      "----------------------------------------------------------------------------------------------------\n",
      "Index: 3649\n",
      "Original: 🦍 (video) ICYMI - I caught up with Darren Till regarding his upcoming title fight at #UFC228  against Tyron Woodley… https://t.co/i5kcNh1M8V\n",
      "----------------------------------------------------------------------------------------------------\n",
      "Index: 3916\n",
      "Original: Happy birthday brother! ⭐️ https://t.co/vOcM0C5Egg\n",
      "----------------------------------------------------------------------------------------------------\n",
      "Index: 4098\n",
      "Original: There’s something about Thursday that says #lunch cecconislondon can’t be quick! At least I left at 5.30pm today. @… https://t.co/c7CexCWaaF\n",
      "----------------------------------------------------------------------------------------------------\n",
      "Index: 4316\n",
      "Original: A day out at Kew Gardens #kewgardens @ London, United Kingdom https://t.co/oAAmSw03oK\n",
      "----------------------------------------------------------------------------------------------------\n",
      "Index: 2525\n",
      "Original: Don't stop here, diesel 150 a litre, toilets flooded, queues too long, shelves empty. #wait #queues #Oxford (@ BP i… https://t.co/PGKmMK9Gl4\n",
      "----------------------------------------------------------------------------------------------------\n",
      "Index: 544\n",
      "Original: Rebecca as the NPF youth rep for London would give young people a credible and strong voice. She’s a passionate cam… https://t.co/enO9lbl1Em\n",
      "----------------------------------------------------------------------------------------------------\n",
      "Index: 1839\n",
      "Original: @ManUtd Sign Harry Maguire\n",
      "----------------------------------------------------------------------------------------------------\n",
      "Index: 4028\n",
      "Original: We are thrilled to announce we will be working with Patatam, a French site launching in the UK this Autumn 🍂 Patata… https://t.co/fMO4e87tq6\n",
      "----------------------------------------------------------------------------------------------------\n",
      "Index: 240\n",
      "Original: Nice little sweaty arm workout😅\n",
      "----------------------------------------------------------------------------------------------------\n",
      "Index: 969\n",
      "Original: @ceruleancynic Got mine on kindle 2 days ago in the UK :-) , read and reviewed on amazon Uk :-)\n",
      "Ps it was great , thank you\n",
      "----------------------------------------------------------------------------------------------------\n",
      "Index: 3176\n",
      "Original: @Otto_English Apparently, Putin is quite keen on Brexit. Follow the money 🧐 #FBPE\n",
      "----------------------------------------------------------------------------------------------------\n",
      "Index: 2022\n",
      "Original: @cityoflondon The list of 'protected characteristics' is set out at Section 4 Equality Act 2010, note that 'sex' is… https://t.co/84T97I3A6B\n",
      "----------------------------------------------------------------------------------------------------\n",
      "Index: 3963\n",
      "Original: This is my favoruite music magazine out there right now https://t.co/v3IErkfUnp\n",
      "----------------------------------------------------------------------------------------------------\n",
      "Index: 2487\n",
      "Original: @CarolAnneCasta Bet you I won’t\n",
      "----------------------------------------------------------------------------------------------------\n",
      "Index: 4868\n",
      "Original: @FoxNews @VP @SecPompeo True disciples of Jesus. Not.\n",
      "----------------------------------------------------------------------------------------------------\n",
      "Index: 555\n",
      "Original: Catch me on the decks this Sunday @therumkitchen #brixton it's gonna be a viiiiibes!!!!😏💥💥💥 Big up to the line up 💙… https://t.co/h5Zj4Qbfqd\n",
      "----------------------------------------------------------------------------------------------------\n",
      "Index: 2268\n",
      "Original: ┏━━━━━┳━━━━━┓\n",
      "┣━┓　　　┃　　　┏━┫\n",
      "┣┓┃　　　┃　　　┃┏┫\n",
      "┃┃┃╮　╭┃╮　╭┃┃┃\n",
      "┃┃┃╯　╰┃╯　╰┃┃┃\n",
      "┣┛┃　　　┃　　　┃┗┫\n",
      "┣━┛　　　┃　　　┗━┫\n",
      "┗━━━━━┻━━━━━┛ https://t.co/B1Tuyfv6YT\n",
      "----------------------------------------------------------------------------------------------------\n",
      "Index: 1480\n",
      "Original: @jubileeline Thank for your interest Tarim. We  got off at Finchley Road as my boys and I are going to see Mission Impossible.\n",
      "----------------------------------------------------------------------------------------------------\n",
      "Index: 1086\n",
      "Original: @AvonBooksUK @BunchesUK @v_carnevale red roses are my favourite :)\n",
      "----------------------------------------------------------------------------------------------------\n",
      "Index: 4334\n",
      "Original: @BE_Sean_Mills Oh that's on Bellenden Rd isn't it?\n",
      "----------------------------------------------------------------------------------------------------\n",
      "Index: 1319\n",
      "Original: One of the best selling cassettes of the year so far. Thanks to everyone who’s been buying them!!!!! https://t.co/o0ktmt3PMj\n",
      "----------------------------------------------------------------------------------------------------\n",
      "Index: 1891\n",
      "Original: @babloofy  https://t.co/p2l2MJen99\n",
      "----------------------------------------------------------------------------------------------------\n",
      "Index: 1832\n",
      "Original: @JoeReadman  https://t.co/h8zT7brIE8\n",
      "----------------------------------------------------------------------------------------------------\n",
      "Index: 724\n",
      "Original: @BlueJaigEyes No problem Johna, remember your stuff is amazing and you work so hard to bring us all the news, detai… https://t.co/Vjx3AcjrDa\n",
      "----------------------------------------------------------------------------------------------------\n",
      "Index: 29\n",
      "Original: @Motolko Тоже вариант\n",
      "----------------------------------------------------------------------------------------------------\n",
      "Index: 3334\n",
      "Original: HIS CHEEKBONES\n",
      "----------------------------------------------------------------------------------------------------\n",
      "Index: 1322\n",
      "Original: @cookylamoo Jesus\n",
      "----------------------------------------------------------------------------------------------------\n",
      "Index: 5195\n",
      "Original: @CarlMoeTenor what a pleasure to e-meet you, man! Looking forward to a drink hopefully in the near future! https://t.co/yVwa0KtwOJ\n",
      "----------------------------------------------------------------------------------------------------\n",
      "Index: 624\n",
      "Original: Don’t forget that kids under 12 eat for free at selected @GordonRamsayGRP during these summer holidays… https://t.co/XtfotZXSJm\n",
      "----------------------------------------------------------------------------------------------------\n",
      "Index: 2304\n",
      "Original: #london🇬🇧 en Westminster Abbey https://t.co/qFCpNhm8hC\n",
      "----------------------------------------------------------------------------------------------------\n",
      "Index: 3984\n",
      "Original: Margot #sprocker @ Jeskyns Community Woodland https://t.co/hEfff22J7o\n",
      "----------------------------------------------------------------------------------------------------\n",
      "Index: 2620\n",
      "Original: @RoverDov123 id faint in that for sure it's like low to mid 80's F here in south east england im like 20 minutes fr… https://t.co/TFINkOO6el\n",
      "----------------------------------------------------------------------------------------------------\n",
      "Index: 2072\n",
      "Original: @FulhamFC @Andre_Schuerrle  https://t.co/sou0OSqkWG\n",
      "----------------------------------------------------------------------------------------------------\n",
      "Index: 3970\n",
      "Original: В #Житомирской области Украины 2019-й объявлен Годом нациста Бандеры  https://t.co/fuoH0Z8C4f\n",
      "----------------------------------------------------------------------------------------------------\n",
      "Index: 4024\n",
      "Original: @PaulCowland_ camping ⛺️ #WithAllYourFans https://t.co/pB5yIxu242\n",
      "----------------------------------------------------------------------------------------------------\n",
      "Index: 3034\n",
      "Original: 'Corbyn's inner circle will be happy with the figures. They'll say the glass is two-thirds full although they'll ha… https://t.co/Zjd7H1E6K4\n",
      "----------------------------------------------------------------------------------------------------\n",
      "Index: 4428\n",
      "Original: @TrenchTrotter Each to his own Tim, whatever works...Stand is associated with the military who as you do Battlefiel… https://t.co/xZS4e4HUoV\n",
      "----------------------------------------------------------------------------------------------------\n",
      "Index: 1360\n",
      "Original: Did we just pop up on Lorraine?! 😂😅👞! @lorraine @ITV #LTDI @londontapdance #tapdanceuk @JackEvans50 @jamiespall… https://t.co/F2xKpdI9UE\n",
      "----------------------------------------------------------------------------------------------------\n",
      "Index: 4466\n",
      "Original: @msmarbles2017 I thought we were? #ChallahDollar (Just trying out this hashtag to see if it works).\n",
      "----------------------------------------------------------------------------------------------------\n",
      "Index: 3207\n",
      "Original: Pochettino calls on Tottenham fringe players to stake claim in depleted squad https://t.co/fLdGM0tNMN https://t.co/UKJ0BoIxYm\n",
      "----------------------------------------------------------------------------------------------------\n",
      "Index: 4638\n",
      "Original: انته تحفه صاغها  الرحمن  من بد  التحف...\n",
      "----------------------------------------------------------------------------------------------------\n",
      "Index: 2347\n",
      "Original: In den Warner Studios alle meine Geldscheine mit dem Gringotts Wasserzeichen stempeln und wieder in Umlauf geben, d… https://t.co/9L17vOuU4j\n",
      "----------------------------------------------------------------------------------------------------\n",
      "Index: 239\n",
      "Original: @lopezleonardor 👊🏽\n",
      "----------------------------------------------------------------------------------------------------\n",
      "Index: 2057\n",
      "Original: @Dr_abdoty @ShougAlolayan  باقة وليست شتلات 🙂 اتمنى انك تتجاوبين 🤦🏻‍♀️\n",
      "----------------------------------------------------------------------------------------------------\n",
      "Index: 3049\n",
      "Original: @Homebase_help @BandQ @bandq_help @Homebase_help did you manage to help me and find something? @bandq_help @bandq r… https://t.co/u1EYb27BcV\n",
      "----------------------------------------------------------------------------------------------------\n",
      "Index: 2659\n",
      "Original: @DaveHaygarth Simple question: what is wrong with people?\n",
      "----------------------------------------------------------------------------------------------------\n"
     ]
    }
   ],
   "source": [
    "# Printing out all of our tweets for manual classification\n",
    "for i, row in gold_test.iterrows():\n",
    "    print(f\"Index: {i}\")\n",
    "    print(f\"Original: {row['text']}\")\n",
    "    print(\"-\" * 100)"
   ]
  },
  {
   "cell_type": "code",
   "execution_count": 18,
   "id": "b7a337bc-32fc-4fb8-b644-78190119ed67",
   "metadata": {},
   "outputs": [],
   "source": [
    "# Assigning Arsenal-related tweets to the positive class\n",
    "game_indicies = [23]\n",
    "gold_test.loc[game_indicies, \"true_label\"] = 1"
   ]
  },
  {
   "cell_type": "markdown",
   "id": "bf2633e0-fcbb-4d20-81ac-43b5b490bccf",
   "metadata": {},
   "source": [
    "From our gold set, we found that only 1 of the 200 (0.5%) tweets refer to the Arsenal game. This aligns with the findings from our Naive Bayes model, where only 0.6% of the training data belonged to the positive class. It appears that the Arsenal game was not a hot topic of conversation at the time.\n",
    "\n",
    "Given the sparsity of Arsenal-related tweets, we are going to expand the scope of the project to include any football-related content. Whilst reviewing the gold standard set of tweets, there appeared to be a few more relating to player club transfers, which stands to reason given July is in the middle of the summer transfer window.\n",
    "\n",
    "We will first proceed by updating our list of keywords. This list will include:\n",
    "\n",
    "1) Generic football terms\n",
    "2) All English clubs in the professional leagues (Premier League, Championship, League One, League Two)\n",
    "3) All clubs featuring in the International Champions Cup pre-season tournament in the summer of 2018 (minus the English teams already featuring above)\n",
    "4) Top 50 players by market value transferred in the summer transfer window of 2018"
   ]
  },
  {
   "cell_type": "code",
   "execution_count": 19,
   "id": "e1aba54d-eade-40df-9aea-26e201b5372d",
   "metadata": {},
   "outputs": [],
   "source": [
    "keywords = [\n",
    "    # General football terms\n",
    "    \"football\", \"soccer\", \"match\", \"kickoff\", \"goal\", \"halftime\", \"fulltime\", \"score\", \"draw\", \"penalty\", \"pen\", \"pens\",\n",
    "    \"referee\", \"injury\", \"red card\", \"yellow card\", \"foul\", \"offside\", \"extra time\"\n",
    "\n",
    "    # Clubs (English)\n",
    "    \"manchester city\", \"liverpool\", \"chelsea\", \"tottenham hotspur\", \"arsenal\",\n",
    "    \"manchester united\", \"wolverhampton wanderers\", \"everton\", \"leicester city\", \"west ham united\",\n",
    "    \"watford\", \"crystal palace\", \"newcastle united\", \"bournemouth\", \"burnley\", \"southampton\",\n",
    "    \"brighton & hove albion\", \"cardiff city\", \"fulham\", \"huddersfield town\", \"norwich city\",\n",
    "    \"sheffield united\", \"leeds united\", \"west bromwich albion\", \"aston villa\", \"derby county\",\n",
    "    \"middlesbrough\", \"bristol city\", \"nottingham forest\", \"swansea city\", \"brentford\",\n",
    "    \"sheffield wednesday\", \"hull city\", \"preston north end\", \"blackburn rovers\", \"stoke city\",\n",
    "    \"birmingham city\", \"wigan athletic\", \"queens park rangers\", \"reading\", \"millwall\",\n",
    "    \"rotherham united\", \"bolton wanderers\", \"ipswich town\", \"luton town\", \"barnsley\",\n",
    "    \"charlton athletic\", \"portsmouth\", \"sunderland\", \"doncaster rovers\", \"peterborough united\",\n",
    "    \"coventry city\", \"burton albion\", \"blackpool\", \"fleetwood town\", \"oxford united\", \"gillingham\",\n",
    "    \"accrington stanley\", \"bristol rovers\", \"rochdale\", \"wycombe wanderers\", \"shrewsbury town\",\n",
    "    \"southend united\", \"afc wimbledon\", \"plymouth argyle\", \"walsall\", \"scunthorpe united\",\n",
    "    \"bradford city\", \"lincoln city\", \"bury\", \"milton keynes dons\", \"mansfield town\",\n",
    "    \"forest green rovers\", \"tranmere rovers\", \"newport county\", \"colchester united\", \"exeter city\",\n",
    "    \"stevenage\", \"carlisle united\", \"crewe alexandra\", \"swindon town\", \"oldham athletic\",\n",
    "    \"northampton town\", \"cheltenham town\", \"grimsby town\", \"morecambe\", \"crawley town\",\n",
    "    \"port vale\", \"cambridge united\", \"macclesfield town\", \"notts county\", \"yeovil town\"\n",
    "\n",
    "    # Clubs (International Champions Cup)\n",
    "    \"borussia dortmund\", \"inter milan\", \"real madrid\", \"juventus\", \"ac milan\", \"lyon\", \n",
    "    \"bayern munich\", \"benfica\", \"roma\", \"psg\", \"atletico madrid\", \"barcelona\"\n",
    "\n",
    "    # Transferred players\n",
    "    \"mbappe\", \"ronaldo\", \"kepa\", \"thomas lemar\", \"mahrez\", \"keita\", \"courtois\",\n",
    "    \"alisson\", \"fred\", \"jorginho\", \"douglas costa\", \"higuain\", \"morata\",\n",
    "    \"pulisic\", \"fabinho\", \"vinicius junior\", \"malcom\", \"nainggolan\", \"schick\",\n",
    "    \"paulinho\", \"cancelo\", \"paredes\", \"guedes\",\n",
    "    \"bakayoko\", \"batshuayi\", \"goretzka\", \"devrij\", \"richarlison\", \"paqueta\",\n",
    "    \"felipe anderson\", \"caldara\", \"kehrer\", \"lenglet\", \"piatek\", \"bonucci\",\n",
    "    \"nakajima\", \"gelson martins\", \"vidal\", \"odriozola\", \"arthur melo\", \"lerma\",\n",
    "    \"mina\", \"golovin\", \"seri\", \"fabian ruiz\", \"torreira\", \"nzonzi\", \"kondogbia\",\n",
    "    \"hamsik\", \"balde\"\n",
    "]    "
   ]
  },
  {
   "cell_type": "markdown",
   "id": "6c45a6e1-7d5a-47f4-a8d9-e72e0078daee",
   "metadata": {},
   "source": [
    "Our next step will be to relabel the tweets we cleaned in our original `london_tweets` dataset."
   ]
  },
  {
   "cell_type": "code",
   "execution_count": 20,
   "id": "3e532355-2c7a-47ef-857b-4adcc7ea20dd",
   "metadata": {},
   "outputs": [
    {
     "data": {
      "text/plain": [
       "np.int64(303)"
      ]
     },
     "execution_count": 20,
     "metadata": {},
     "output_type": "execute_result"
    }
   ],
   "source": [
    "# Reapply our previously defined labelling function, to incorporate our expanded list of keywords\n",
    "london_tweets[\"labels\"] = london_tweets[\"cleaned_text\"].apply(label_tweet)\n",
    "\n",
    "# Check how many tweets were labelled in the positive class\n",
    "london_tweets[\"labels\"].sum()"
   ]
  },
  {
   "cell_type": "markdown",
   "id": "e5d631ee-47a3-4f71-bcb8-904b0cdd26e5",
   "metadata": {},
   "source": [
    "We can see that 303 tweets have been assigned to the positive class, which is a significant improvement on the 27 we had prior.\n",
    "\n",
    "We will now rerun the model and print out the performance metrics."
   ]
  },
  {
   "cell_type": "code",
   "execution_count": 21,
   "id": "2ba9afd5-3c08-4c73-89cf-8fe08e0299ef",
   "metadata": {},
   "outputs": [
    {
     "name": "stdout",
     "output_type": "stream",
     "text": [
      "Confusion Matrix:\n",
      "[[907   0]\n",
      " [ 61   0]]\n",
      "\n",
      "Classification Report:\n",
      "              precision    recall  f1-score   support\n",
      "\n",
      "           0       0.94      1.00      0.97       907\n",
      "           1       0.00      0.00      0.00        61\n",
      "\n",
      "    accuracy                           0.94       968\n",
      "   macro avg       0.47      0.50      0.48       968\n",
      "weighted avg       0.88      0.94      0.91       968\n",
      "\n"
     ]
    }
   ],
   "source": [
    "# Redefine X and y\n",
    "X = vectoriser.fit_transform(london_tweets[\"cleaned_text\"])\n",
    "y = london_tweets[\"labels\"]\n",
    "\n",
    "# Split our data\n",
    "X_train, X_test, y_train, y_test = train_test_split(X, y, test_size=0.2, stratify=y, random_state=42)\n",
    "\n",
    "# Retrain and evaluate our model\n",
    "nb_model = MultinomialNB()\n",
    "nb_model.fit(X_train, y_train)\n",
    "y_pred = nb_model.predict(X_test)\n",
    "\n",
    "# Print out our performance metrics\n",
    "print(\"Confusion Matrix:\")\n",
    "print(confusion_matrix(y_test, y_pred))\n",
    "print(\"\\nClassification Report:\")\n",
    "print(classification_report(y_test, y_pred, zero_division=0))"
   ]
  },
  {
   "cell_type": "markdown",
   "id": "addf3296-e1d8-449d-a24b-2390a18dc4ea",
   "metadata": {},
   "source": [
    "It appears our model has failed to predict any of the test set as the positive class, with both FP and TP categories having a count of 0. Our confusion matrix shows that of the 61 positives, it has falsely predicted negative for every single one of them, indicating there is an underlying issue with our model.\n",
    "\n",
    "In an attempt to improve the model, we will switch our vectorisation method to Count Vectorisation and rerun the model."
   ]
  },
  {
   "cell_type": "code",
   "execution_count": 22,
   "id": "c0a6e42a-595d-43ee-b278-8a3f314bbd0d",
   "metadata": {},
   "outputs": [
    {
     "name": "stdout",
     "output_type": "stream",
     "text": [
      "Confusion Matrix:\n",
      "[[875  32]\n",
      " [ 43  18]]\n",
      "\n",
      "Classification Report:\n",
      "              precision    recall  f1-score   support\n",
      "\n",
      "           0       0.95      0.96      0.96       907\n",
      "           1       0.36      0.30      0.32        61\n",
      "\n",
      "    accuracy                           0.92       968\n",
      "   macro avg       0.66      0.63      0.64       968\n",
      "weighted avg       0.92      0.92      0.92       968\n",
      "\n"
     ]
    }
   ],
   "source": [
    "# Initialise our Count Vectoriser\n",
    "vectoriser = CountVectorizer(max_features=5000)\n",
    "X = vectoriser.fit_transform(london_tweets[\"cleaned_text\"])\n",
    "y = london_tweets[\"labels\"]\n",
    "\n",
    "# Split our data\n",
    "X_train, X_test, y_train, y_test = train_test_split(X, y, test_size=0.2, stratify=y, random_state=42)\n",
    "\n",
    "# Retrain and evaluate our model\n",
    "nb_model = MultinomialNB()\n",
    "nb_model.fit(X_train, y_train)\n",
    "y_pred = nb_model.predict(X_test)\n",
    "\n",
    "# Print out our performance metrics\n",
    "print(\"Confusion Matrix:\")\n",
    "print(confusion_matrix(y_test, y_pred))\n",
    "print(\"\\nClassification Report:\")\n",
    "print(classification_report(y_test, y_pred))"
   ]
  },
  {
   "cell_type": "markdown",
   "id": "eb50dc70-986d-4089-8c30-371131ab2108",
   "metadata": {},
   "source": [
    "This is an improvement. Whilst our model is still far from perfect given that it has predicted 32 false positives and 43 false negatives, it has actually managed to predict some datapoints as the positive class, including 18 correct true positive assignments.\n",
    "\n",
    "We will next test the model on our gold standard set and see how it performs. We will begin by manually labelling our gold set with an any tweets that reference football."
   ]
  },
  {
   "cell_type": "code",
   "execution_count": 23,
   "id": "e19a17c3-87e9-4250-bb1a-83bdff4d1897",
   "metadata": {},
   "outputs": [],
   "source": [
    "# Label our gold set (we do not need to reset all labels to 0, as our only prior positive assingment, [23], is also positive here) \n",
    "game_indicies = [4284, 1820, 794, 5333, 1615, 23, 4670, 3479, 4093, 1839, 2268, 2072, 3207]\n",
    "gold_test.loc[game_indicies, \"true_labels\"] = 1"
   ]
  },
  {
   "cell_type": "markdown",
   "id": "2104d8c9-b410-4553-ba37-c4012fba32ca",
   "metadata": {},
   "source": [
    "We have assigned 13 tweets to the positive class (6.5%). Admittedly 200 is a small sample, however this once again aligns with our weak labelling method that assigned 6.3% of the training data to the positive class. This indicates that our labels are not the problem.\n",
    "\n",
    "Earlier, we removed the gold set before cleaning the tweets as features such as emojis and punctuation can help with context. Therefore, before we proceed with our analysis we must clean the tweets again."
   ]
  },
  {
   "cell_type": "code",
   "execution_count": 24,
   "id": "1a73e429-d615-4b97-9bb1-35b8d1a498da",
   "metadata": {},
   "outputs": [],
   "source": [
    "# Apply our previously defined 'clean_tweet' function to our gold_test 'text' column\n",
    "gold_test[\"cleaned_text\"] = gold_test[\"text\"].apply(clean_tweet)"
   ]
  },
  {
   "cell_type": "markdown",
   "id": "036e36ca-2a1d-414d-beda-09b8f24a12ce",
   "metadata": {},
   "source": [
    "The tweets in our gold set have now been cleaned.\n",
    "\n",
    "Our next step is to vectorise the gold set."
   ]
  },
  {
   "cell_type": "code",
   "execution_count": 25,
   "id": "f34b8114-3f81-4019-a04e-8d7f5310246b",
   "metadata": {},
   "outputs": [
    {
     "name": "stdout",
     "output_type": "stream",
     "text": [
      "Confusion Matrix:\n",
      "[[185   2]\n",
      " [ 11   2]]\n",
      "\n",
      "Classification Report:\n",
      "              precision    recall  f1-score   support\n",
      "\n",
      "           0       0.94      0.99      0.97       187\n",
      "           1       0.50      0.15      0.24        13\n",
      "\n",
      "    accuracy                           0.94       200\n",
      "   macro avg       0.72      0.57      0.60       200\n",
      "weighted avg       0.92      0.94      0.92       200\n",
      "\n"
     ]
    }
   ],
   "source": [
    "# Vectorise our gold test set - note: we do not fit it to ensure our model is using the same vocabulary as our training data\n",
    "X_gold = vectoriser.transform(gold_test[\"cleaned_text\"])\n",
    "y_gold_pred = nb_model.predict(X_gold)\n",
    "\n",
    "# Print out our performance metrics\n",
    "print(\"Confusion Matrix:\")\n",
    "print(confusion_matrix(gold_test[\"true_labels\"], y_gold_pred))\n",
    "print(\"\\nClassification Report:\")\n",
    "print(classification_report(gold_test[\"true_labels\"], y_gold_pred))"
   ]
  },
  {
   "cell_type": "markdown",
   "id": "21a4b611-af52-416c-a011-9c7f86a26c8e",
   "metadata": {},
   "source": [
    "Running our Naive Bayes model on our high-confidence labels displays that it is still heavily biased towards predicting non-football tweets. This is most likely a result of the class imbalance within the dataset.\n",
    "\n",
    "For one last approach, we will create Logistic Regression and Support Vector Machine (SVM) models and see if they can fit the data better.\n",
    "\n",
    "As our data has already been cleaned, prepared, and split into training and test sets, all we have to do is simply fit our models to the dataset and measure their performance."
   ]
  },
  {
   "cell_type": "code",
   "execution_count": 26,
   "id": "9a1b3b5a-2677-4cec-9f16-5e4ec19c5554",
   "metadata": {},
   "outputs": [
    {
     "name": "stdout",
     "output_type": "stream",
     "text": [
      "Confusion Matrix:\n",
      "[[177  10]\n",
      " [ 11   2]]\n",
      "\n",
      "Classification Report:\n",
      "              precision    recall  f1-score   support\n",
      "\n",
      "           0       0.94      0.95      0.94       187\n",
      "           1       0.17      0.15      0.16        13\n",
      "\n",
      "    accuracy                           0.90       200\n",
      "   macro avg       0.55      0.55      0.55       200\n",
      "weighted avg       0.89      0.90      0.89       200\n",
      "\n"
     ]
    }
   ],
   "source": [
    "## LOGISTIC REGRESSION MODEL ##\n",
    "\n",
    "# Initialise our Logistic Regression model and fit it to the data\n",
    "log_model = LogisticRegression(class_weight='balanced', max_iter=1000)\n",
    "log_model.fit(X_train, y_train)\n",
    "\n",
    "# Classify the tweets using our Logistic Regression model\n",
    "y_gold_pred = log_model.predict(X_gold)\n",
    "\n",
    "# Print out our performance metrics\n",
    "print(\"Confusion Matrix:\")\n",
    "print(confusion_matrix(gold_test[\"true_labels\"], y_gold_pred))\n",
    "print(\"\\nClassification Report:\")\n",
    "print(classification_report(gold_test[\"true_labels\"], y_gold_pred))"
   ]
  },
  {
   "cell_type": "code",
   "execution_count": 27,
   "id": "11968e49-6d48-481a-83b3-63ef7061444a",
   "metadata": {},
   "outputs": [
    {
     "name": "stdout",
     "output_type": "stream",
     "text": [
      "Confusion Matrix:\n",
      "[[183   4]\n",
      " [ 11   2]]\n",
      "\n",
      "Classification Report:\n",
      "              precision    recall  f1-score   support\n",
      "\n",
      "           0       0.94      0.98      0.96       187\n",
      "           1       0.33      0.15      0.21        13\n",
      "\n",
      "    accuracy                           0.93       200\n",
      "   macro avg       0.64      0.57      0.59       200\n",
      "weighted avg       0.90      0.93      0.91       200\n",
      "\n"
     ]
    }
   ],
   "source": [
    "## SVM MODEL ##\n",
    "\n",
    "# Initialise our SVM model and fit it to the data\n",
    "svm_model = LinearSVC(class_weight='balanced', max_iter=10000)\n",
    "svm_model.fit(X_train, y_train)\n",
    "\n",
    "# Classify the tweets using our SVM model\n",
    "y_gold_pred_svm = svm_model.predict(X_gold)\n",
    "\n",
    "# Print out our performance metrics\n",
    "print(\"Confusion Matrix:\")\n",
    "print(confusion_matrix(gold_test[\"true_labels\"], y_gold_pred_svm))\n",
    "print(\"\\nClassification Report:\")\n",
    "print(classification_report(gold_test[\"true_labels\"], y_gold_pred_svm))"
   ]
  },
  {
   "cell_type": "markdown",
   "id": "d952972c-2dab-4c15-9c50-623aa046b2c0",
   "metadata": {},
   "source": [
    "(We will also create some visualisations to help us compare our models.)"
   ]
  },
  {
   "cell_type": "code",
   "execution_count": 28,
   "id": "bc392fae-342b-4d29-9136-98a6d39a58ef",
   "metadata": {},
   "outputs": [
    {
     "name": "stdout",
     "output_type": "stream",
     "text": [
      "                 Model  Precision  Recall  F1 Score\n",
      "0          Naive Bayes       0.50    0.15      0.24\n",
      "1  Logistic Regression       0.17    0.15      0.16\n",
      "2                  SVM       0.33    0.15      0.21\n"
     ]
    }
   ],
   "source": [
    "### Some repeated code for simplicity ###\n",
    "\n",
    "# Apply vectoriser to gold test set\n",
    "X_gold = vectoriser.transform(gold_test[\"cleaned_text\"])\n",
    "y_gold_true = gold_test[\"true_labels\"]\n",
    "\n",
    "# Generate predictions from each model again\n",
    "y_pred_nb = nb_model.predict(X_gold)\n",
    "y_pred_log = log_model.predict(X_gold)\n",
    "y_pred_svm = svm_model.predict(X_gold)\n",
    "\n",
    "# Create the table\n",
    "comparison = pd.DataFrame({\n",
    "    \"Model\": [\"Naive Bayes\", \"Logistic Regression\", \"SVM\"],\n",
    "    \"Precision\": [\n",
    "        precision_score(y_gold_true, y_pred_nb, pos_label=1, zero_division=0),\n",
    "        precision_score(y_gold_true, y_pred_log, pos_label=1, zero_division=0),\n",
    "        precision_score(y_gold_true, y_pred_svm, pos_label=1, zero_division=0)\n",
    "    ],\n",
    "    \"Recall\": [\n",
    "        recall_score(y_gold_true, y_pred_nb, pos_label=1),\n",
    "        recall_score(y_gold_true, y_pred_log, pos_label=1),\n",
    "        recall_score(y_gold_true, y_pred_svm, pos_label=1)\n",
    "    ],\n",
    "    \"F1 Score\": [\n",
    "        f1_score(y_gold_true, y_pred_nb, pos_label=1),\n",
    "        f1_score(y_gold_true, y_pred_log, pos_label=1),\n",
    "        f1_score(y_gold_true, y_pred_svm, pos_label=1)\n",
    "    ]\n",
    "}).round(2)\n",
    "\n",
    "print(comparison)\n"
   ]
  },
  {
   "cell_type": "code",
   "execution_count": 29,
   "id": "159241b6-dc01-4580-9a72-5a3e281e56b8",
   "metadata": {},
   "outputs": [
    {
     "data": {
      "image/png": "[encoded data removed]",
      "text/plain": [
       "<Figure size 800x500 with 1 Axes>"
      ]
     },
     "metadata": {},
     "output_type": "display_data"
    }
   ],
   "source": [
    "# Plot bar chart\n",
    "comparison.set_index(\"Model\").plot(kind=\"bar\", figsize=(8, 5), width=0.75)\n",
    "\n",
    "plt.title(\"Model Comparison on Gold Test Set\")\n",
    "plt.ylabel(\"Score\")\n",
    "plt.xlabel(\"\")\n",
    "plt.ylim(0, 1)\n",
    "plt.xticks(rotation=0)\n",
    "plt.legend(loc='upper right')\n",
    "plt.grid(axis='y', linestyle='--', alpha=0.7)\n",
    "\n",
    "plt.tight_layout()\n",
    "plt.show()"
   ]
  },
  {
   "cell_type": "markdown",
   "id": "c1e46fbb-706f-47e8-8381-745c7ba99a93",
   "metadata": {},
   "source": [
    "It appears that both our Logistic Regression and SVM models performed worse across the board at predicting football-related tweets compared to our Naive Bayes classifier. While all three models achieved the same level of recall (0.15), both Logistic Regression and SVM had lower precision and, in turn, lower F1 scores. These models also appeared more willing to classify a tweet in the positive class, as evidenced by the increased number of false positives. The Logistic Regression model performed the worst with 10 false positives, followed by the SVM model with 4. This may reflect their higher sensitivity in a highly imbalanced dataset, where only a small fraction of tweets were football-related."
   ]
  },
  {
   "cell_type": "markdown",
   "id": "db835180-92ea-48dd-9ced-7f93212ed36c",
   "metadata": {},
   "source": [
    "## Conclusion"
   ]
  },
  {
   "cell_type": "markdown",
   "id": "8d807453-f0a6-49a8-a792-bf76dc17b8c8",
   "metadata": {},
   "source": [
    "This project aimed to build a text classification model to identify football-related tweets originating from London. Starting from raw tweet data, we cleaned and preprocessed the text, created weak labels using domain-specific keywords, and held out a manually labeled gold-standard set for evaluation. We then trained and compared three classifiers: Naive Bayes, Logistic Regression, and Support Vector Machine (SVM).\n",
    "\n",
    "Naive Bayes outperformed the other models in both precision and F1 score. However, all models struggled with recall due to the highly imbalanced dataset, with only a small number of tweets being football-related. These results highlight both the potential and the limitations of applying weak supervision and traditional models to noisy, real-world text data.\n",
    "\n",
    "In future work, it could be useful to incorporate additional features such as timestamps, hashtags, or user mentions. These would add more context to each tweet and could help reduce class imbalance by identifying indirect signals of football relevance. Additionally, incorporating n-grams would allow the model to capture phrases and word sequences (e.g. \"red card\", \"kick off\"), rather than treating each word independently as in traditional Naive Bayes. This could improve recall by helping the model better recognise football-related patterns and reduce false negatives."
   ]
  }
 ],
 "metadata": {
  "kernelspec": {
   "display_name": "Python 3 (ipykernel)",
   "language": "python",
   "name": "python3"
  },
  "language_info": {
   "codemirror_mode": {
    "name": "ipython",
    "version": 3
   },
   "file_extension": ".py",
   "mimetype": "text/x-python",
   "name": "python",
   "nbconvert_exporter": "python",
   "pygments_lexer": "ipython3",
   "version": "3.13.2"
  }
 },
 "nbformat": 4,
 "nbformat_minor": 5
}
